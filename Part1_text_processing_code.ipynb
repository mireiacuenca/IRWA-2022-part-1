{
 "cells": [
  {
   "cell_type": "markdown",
   "metadata": {},
   "source": [
    "Júlia Dalmau,\n",
    "Ariadna Gonzalez i \n",
    "Mireia Cuenca"
   ]
  },
  {
   "cell_type": "code",
   "execution_count": 94,
   "metadata": {},
   "outputs": [],
   "source": [
    "#Imports\n",
    "\n",
    "from collections import defaultdict\n",
    "from array import array\n",
    "from nltk.stem import PorterStemmer\n",
    "from nltk.corpus import stopwords\n",
    "import math\n",
    "import numpy as np\n",
    "import collections\n",
    "from numpy import linalg as la\n",
    "import time\n",
    "import string\n",
    "import nltk\n",
    "import json"
   ]
  },
  {
   "cell_type": "code",
   "execution_count": 20,
   "metadata": {},
   "outputs": [
    {
     "name": "stdout",
     "output_type": "stream",
     "text": [
      "{\"created_at\": \"Fri Sep 30 18:39:08 +0000 2022\", \"id\": 1575918182698979328, \"id_str\": \"1575918182698979328\", \"full_text\": \"So this will keep spinning over us until 7 pm\\u2026go away already. #HurricaneIan https://t.co/VROTxNS9rz\", \"truncated\": false, \"display_text_range\": [0, 76], \"entities\": {\"hashtags\": [{\"text\": \"HurricaneIan\", \"indices\": [63, 76]}], \"symbols\": [], \"user_mentions\": [], \"urls\": [], \"media\": [{\"id\": 1575918178261254162, \"id_str\": \"1575918178261254162\", \"indices\": [77, 100], \"media_url\": \"http://pbs.twimg.com/media/Fd7JO8pXwBI9HPw.jpg\", \"media_url_https\": \"https://pbs.twimg.com/media/Fd7JO8pXwBI9HPw.jpg\", \"url\": \"https://t.co/VROTxNS9rz\", \"display_url\": \"pic.twitter.com/VROTxNS9rz\", \"expanded_url\": \"https://twitter.com/suzjdean/status/1575918182698979328/photo/1\", \"type\": \"photo\", \"sizes\": {\"small\": {\"w\": 521, \"h\": 680, \"resize\": \"fit\"}, \"thumb\": {\"w\": 150, \"h\": 150, \"resize\": \"crop\"}, \"medium\": {\"w\": 919, \"h\": 1200, \"resize\": \"fit\"}, \"large\": {\"w\": 1284, \"h\": 1677, \"resize\": \"fit\"}}}]}, \"extended_entities\": {\"media\": [{\"id\": 1575918178261254162, \"id_str\": \"1575918178261254162\", \"indices\": [77, 100], \"media_url\": \"http://pbs.twimg.com/media/Fd7JO8pXwBI9HPw.jpg\", \"media_url_https\": \"https://pbs.twimg.com/media/Fd7JO8pXwBI9HPw.jpg\", \"url\": \"https://t.co/VROTxNS9rz\", \"display_url\": \"pic.twitter.com/VROTxNS9rz\", \"expanded_url\": \"https://twitter.com/suzjdean/status/1575918182698979328/photo/1\", \"type\": \"photo\", \"sizes\": {\"small\": {\"w\": 521, \"h\": 680, \"resize\": \"fit\"}, \"thumb\": {\"w\": 150, \"h\": 150, \"resize\": \"crop\"}, \"medium\": {\"w\": 919, \"h\": 1200, \"resize\": \"fit\"}, \"large\": {\"w\": 1284, \"h\": 1677, \"resize\": \"fit\"}}}]}, \"metadata\": {\"iso_language_code\": \"en\", \"result_type\": \"recent\"}, \"source\": \"<a href=\\\"http://twitter.com/download/iphone\\\" rel=\\\"nofollow\\\">Twitter for iPhone</a>\", \"in_reply_to_status_id\": null, \"in_reply_to_status_id_str\": null, \"in_reply_to_user_id\": null, \"in_reply_to_user_id_str\": null, \"in_reply_to_screen_name\": null, \"user\": {\"id\": 28709505, \"id_str\": \"28709505\", \"name\": \"Suz\\ud83d\\udc7b\", \"screen_name\": \"suzjdean\", \"location\": \"Charleston, SC & DC\", \"description\": \"MY #NATS #Caps #gamecocks family! I stand with #Ukraine \\ud83c\\uddfa\\ud83c\\udde6 IG: sjdean74\", \"url\": null, \"entities\": {\"description\": {\"urls\": []}}, \"protected\": false, \"followers_count\": 3811, \"friends_count\": 2868, \"listed_count\": 74, \"created_at\": \"Sat Apr 04 01:35:19 +0000 2009\", \"favourites_count\": 320543, \"utc_offset\": null, \"time_zone\": null, \"geo_enabled\": true, \"verified\": false, \"statuses_count\": 165706, \"lang\": null, \"contributors_enabled\": false, \"is_translator\": false, \"is_translation_enabled\": false, \"profile_background_color\": \"0099B9\", \"profile_background_image_url\": \"http://abs.twimg.com/images/themes/theme4/bg.gif\", \"profile_background_image_url_https\": \"https://abs.twimg.com/images/themes/theme4/bg.gif\", \"profile_background_tile\": false, \"profile_image_url\": \"http://pbs.twimg.com/profile_images/1513709638323257351/NuehKDmA_normal.jpg\", \"profile_image_url_https\": \"https://pbs.twimg.com/profile_images/1513709638323257351/NuehKDmA_normal.jpg\", \"profile_banner_url\": \"https://pbs.twimg.com/profile_banners/28709505/1649038002\", \"profile_link_color\": \"0099B9\", \"profile_sidebar_border_color\": \"FFFFFF\", \"profile_sidebar_fill_color\": \"95E8EC\", \"profile_text_color\": \"3C3940\", \"profile_use_background_image\": true, \"has_extended_profile\": true, \"default_profile\": false, \"default_profile_image\": false, \"following\": false, \"follow_request_sent\": false, \"notifications\": false, \"translator_type\": \"none\", \"withheld_in_countries\": []}, \"geo\": null, \"coordinates\": null, \"place\": {\"id\": \"6057f1e35bcc6c20\", \"url\": \"https://api.twitter.com/1.1/geo/id/6057f1e35bcc6c20.json\", \"place_type\": \"admin\", \"name\": \"South Carolina\", \"full_name\": \"South Carolina, USA\", \"country_code\": \"US\", \"country\": \"United States\", \"contained_within\": [], \"bounding_box\": {\"type\": \"Polygon\", \"coordinates\": [[[-83.353955, 32.04683], [-78.499301, 32.04683], [-78.499301, 35.215449], [-83.353955, 35.215449]]]}, \"attributes\": {}}, \"contributors\": null, \"is_quote_status\": false, \"retweet_count\": 0, \"favorite_count\": 0, \"favorited\": false, \"retweeted\": false, \"possibly_sensitive\": false, \"lang\": \"en\"}\n",
      "\n"
     ]
    }
   ],
   "source": [
    "#Load data into memory\n",
    "\n",
    "docs_path = 'C:/Users/mirei/Downloads/IRWA - Project-20221011/data/data/tw_hurricane_data.json' #path of tw_hurricane_data.json\n",
    "with open(docs_path) as fp:\n",
    "    lines = fp.readlines()\n",
    "    \n",
    "#Print lines[0] to see the structure of the data \n",
    "\n",
    "print(lines[0])"
   ]
  },
  {
   "cell_type": "code",
   "execution_count": 95,
   "metadata": {},
   "outputs": [
    {
     "data": {
      "text/plain": [
       "'suzjdean'"
      ]
     },
     "execution_count": 95,
     "metadata": {},
     "output_type": "execute_result"
    }
   ],
   "source": [
    "#Transform data into a dict to make easier the code\n",
    "\n",
    "datos_diccionario = [json.loads(line) for line in lines]\n",
    "\n",
    "#Now if we want to access to the screen_name of a user we colud do it like this\n",
    "\n",
    "datos_diccionario[0]['user']['screen_name']"
   ]
  },
  {
   "cell_type": "code",
   "execution_count": 96,
   "metadata": {},
   "outputs": [],
   "source": [
    "def build_terms(line):\n",
    "\n",
    "    stemmer = PorterStemmer()\n",
    "    stop_words = set(stopwords.words(\"english\"))\n",
    "\n",
    "    #Transform in lowercase\n",
    "    line=  line.lower()\n",
    "    \n",
    "    #Removing punctuation marks\n",
    "    line= line.translate(str.maketrans('', '', string.punctuation)) \n",
    "    \n",
    "    #Tokenize the text to get a list of terms\n",
    "    line=  line.split(\" \")\n",
    "    \n",
    "    #Removing the stopwords\n",
    "    line=[x for x in line if x not in stop_words]\n",
    "    \n",
    "    #Perform stemming\n",
    "    line=[stemmer.stem(x) for x in line]\n",
    "\n",
    "    return line"
   ]
  },
  {
   "cell_type": "code",
   "execution_count": 122,
   "metadata": {},
   "outputs": [],
   "source": [
    "def create_index(lines):\n",
    "    \n",
    "    index = defaultdict(list)\n",
    "    title_index = {}\n",
    "    \n",
    "    for line in lines:\n",
    "    \n",
    "        terms = build_terms(line['full_text'])\n",
    "        \n",
    "        page_id = line['id']\n",
    "        title = line['id_str']\n",
    "        title_index[page_id]=title\n",
    "        \n",
    "        # The final output must return Tweet, Username, Date, Hashtags, Likes, Retweets and Url\n",
    "        args = [line[\"id_str\"], line['user']['screen_name'], line['created_at'], line['entities']['hashtags'], line['user']['favourites_count'], line['retweet_count'], line['entities']['urls']]\n",
    "        \n",
    "        for term in terms:\n",
    "            index[term].append(args)\n",
    "                    \n",
    "    return index, title_index"
   ]
  },
  {
   "cell_type": "code",
   "execution_count": 123,
   "metadata": {},
   "outputs": [],
   "source": [
    "#Create index\n",
    "\n",
    "index, title_index = create_index(datos_diccionario)"
   ]
  },
  {
   "cell_type": "code",
   "execution_count": 145,
   "metadata": {},
   "outputs": [],
   "source": [
    "def search(query, index):\n",
    "   \n",
    "    query = build_terms(query)\n",
    "    docs = []\n",
    "    for term in query:\n",
    "        try:\n",
    "            #Term is in the index\n",
    "            keys = [i for i in index.keys()]\n",
    "            term_docs = [index[t] for t in keys if t==term]\n",
    "            docs=term_docs[0]\n",
    "            \n",
    "        except:\n",
    "            #Term is not in index\n",
    "            pass\n",
    "    return docs"
   ]
  },
  {
   "cell_type": "code",
   "execution_count": 148,
   "metadata": {},
   "outputs": [
    {
     "name": "stdout",
     "output_type": "stream",
     "text": [
      "Insert your query (i.e.: Computer Science):\n",
      "\n",
      "pier\n",
      "\n",
      "======================\n",
      "Sample of 10 results out of 36 for the searched query:\n",
      "\n",
      "Tweet_id:  1575918018235813888  Username:  PalmettoMae  Date:  Fri Sep 30 18:38:29 +0000 2022  Hashtags:  [{'text': 'HurricaneIan', 'indices': [262, 275]}]  Likes:  108899  Url:  0\n",
      "Tweet_id:  1575918018235813888  Username:  PalmettoMae  Date:  Fri Sep 30 18:38:29 +0000 2022  Hashtags:  [{'text': 'HurricaneIan', 'indices': [262, 275]}]  Likes:  108899  Url:  0\n",
      "Tweet_id:  1575918018235813888  Username:  PalmettoMae  Date:  Fri Sep 30 18:38:29 +0000 2022  Hashtags:  [{'text': 'HurricaneIan', 'indices': [262, 275]}]  Likes:  108899  Url:  0\n",
      "Tweet_id:  1575918018235813888  Username:  PalmettoMae  Date:  Fri Sep 30 18:38:29 +0000 2022  Hashtags:  [{'text': 'HurricaneIan', 'indices': [262, 275]}]  Likes:  108899  Url:  0\n",
      "Tweet_id:  1575917717600681984  Username:  jf_darwin  Date:  Fri Sep 30 18:37:17 +0000 2022  Hashtags:  [{'text': 'HurricaneIan', 'indices': [0, 13]}, {'text': 'wxtwitter', 'indices': [231, 241]}, {'text': 'scwx', 'indices': [242, 247]}]  Likes:  9439  Url:  1\n",
      "Tweet_id:  1575917717600681984  Username:  jf_darwin  Date:  Fri Sep 30 18:37:17 +0000 2022  Hashtags:  [{'text': 'HurricaneIan', 'indices': [0, 13]}, {'text': 'wxtwitter', 'indices': [231, 241]}, {'text': 'scwx', 'indices': [242, 247]}]  Likes:  9439  Url:  1\n",
      "Tweet_id:  1575917138803838976  Username:  DoughertyJC  Date:  Fri Sep 30 18:34:59 +0000 2022  Hashtags:  [{'text': 'HurricaneIan', 'indices': [75, 88]}]  Likes:  10510  Url:  0\n",
      "Tweet_id:  1575916653401231360  Username:  GriffJenkins  Date:  Fri Sep 30 18:33:03 +0000 2022  Hashtags:  [{'text': 'HurricaneIan', 'indices': [97, 110]}]  Likes:  16854  Url:  0\n",
      "Tweet_id:  1575915872723488770  Username:  N4JAW  Date:  Fri Sep 30 18:29:57 +0000 2022  Hashtags:  [{'text': 'pawleysisland', 'indices': [27, 41]}, {'text': 'hurricaneian', 'indices': [70, 83]}, {'text': 'stormsurge', 'indices': [84, 95]}]  Likes:  25096  Url:  1\n",
      "Tweet_id:  1575914662537101312  Username:  AlexLittlehales  Date:  Fri Sep 30 18:25:09 +0000 2022  Hashtags:  [{'text': 'HurricaneIan', 'indices': [124, 137]}]  Likes:  4649  Url:  0\n"
     ]
    }
   ],
   "source": [
    "print(\"Insert your query (i.e.: Computer Science):\\n\")\n",
    "query = input()\n",
    "docs = search(query, index)\n",
    "top = 10\n",
    "\n",
    "\n",
    "print(\"\\n======================\\nSample of {} results out of {} for the searched query:\\n\".format(top, len(docs)))\n",
    "for d_id in docs[:top]:\n",
    "    print('Tweet_id: ', d_id[0], ' Username: ', d_id[1], ' Date: ', d_id[2], ' Hashtags: ', d_id[3], ' Likes: ', d_id[4], ' Url: ', d_id[5])"
   ]
  }
 ],
 "metadata": {
  "kernelspec": {
   "display_name": "Python 3",
   "language": "python",
   "name": "python3"
  },
  "language_info": {
   "codemirror_mode": {
    "name": "ipython",
    "version": 3
   },
   "file_extension": ".py",
   "mimetype": "text/x-python",
   "name": "python",
   "nbconvert_exporter": "python",
   "pygments_lexer": "ipython3",
   "version": "3.8.3"
  }
 },
 "nbformat": 4,
 "nbformat_minor": 4
}
