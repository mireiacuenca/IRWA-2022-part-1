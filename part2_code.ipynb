{
 "cells": [
  {
   "cell_type": "markdown",
   "metadata": {},
   "source": [
    "Ariadna Gonzalez, Júlia Dalmau i Mireia Cuenca"
   ]
  },
  {
   "cell_type": "markdown",
   "metadata": {},
   "source": [
    "# INDEXING"
   ]
  },
  {
   "cell_type": "code",
   "execution_count": 1,
   "metadata": {},
   "outputs": [],
   "source": [
    "#Imports\n",
    "\n",
    "from collections import defaultdict\n",
    "from array import array\n",
    "from nltk.stem import PorterStemmer\n",
    "from nltk.corpus import stopwords\n",
    "import math\n",
    "import numpy as np\n",
    "import collections\n",
    "from numpy import linalg as la\n",
    "import time\n",
    "import string\n",
    "import nltk\n",
    "import json\n",
    "import pandas as pd \n",
    "import random"
   ]
  },
  {
   "cell_type": "code",
   "execution_count": 2,
   "metadata": {},
   "outputs": [
    {
     "name": "stdout",
     "output_type": "stream",
     "text": [
      "{\"created_at\": \"Fri Sep 30 18:38:31 +0000 2022\", \"id\": 1575918028717707265, \"id_str\": \"1575918028717707265\", \"full_text\": \"Together we have raised over $20,000 in less than 24 hours for #HurricaneIan relief. \\n\\nPlease stop by the @BigManBigHeart_ tailgate tomorrow to donate in person. My family &amp; team will be at Tent #2 on the Legacy Walk near Gate K! \\n\\n#HurricaneRelief #NoleFam https://t.co/ikmWOP0bR0\", \"truncated\": false, \"display_text_range\": [0, 261], \"entities\": {\"hashtags\": [{\"text\": \"HurricaneIan\", \"indices\": [63, 76]}, {\"text\": \"HurricaneRelief\", \"indices\": [236, 252]}, {\"text\": \"NoleFam\", \"indices\": [253, 261]}], \"symbols\": [], \"user_mentions\": [{\"screen_name\": \"BigManBigHeart_\", \"name\": \"Big Man Big Heart\", \"id\": 1428430898609938433, \"id_str\": \"1428430898609938433\", \"indices\": [106, 122]}], \"urls\": [{\"url\": \"https://t.co/ikmWOP0bR0\", \"expanded_url\": \"https://twitter.com/gibbonsdillan/status/1575538547750162432\", \"display_url\": \"twitter.com/gibbonsdillan/\\u2026\", \"indices\": [262, 285]}]}, \"metadata\": {\"iso_language_code\": \"en\", \"result_type\": \"recent\"}, \"source\": \"<a href=\\\"http://twitter.com/download/iphone\\\" rel=\\\"nofollow\\\">Twitter for iPhone</a>\", \"in_reply_to_status_id\": null, \"in_reply_to_status_id_str\": null, \"in_reply_to_user_id\": null, \"in_reply_to_user_id_str\": null, \"in_reply_to_screen_name\": null, \"user\": {\"id\": 2534429279, \"id_str\": \"2534429279\", \"name\": \"Dillan R. Gibbons\", \"screen_name\": \"GibbonsDillan\", \"location\": \"USA\", \"description\": \"| St.Petersburg, FL | FSU Football | ND Football |       FSU MBA \\u201822 | ND Grad \\u201821 | CEO @BigManBigHeart_ | GoFundMe Athlete |\", \"url\": \"https://t.co/REbq6iCN2G\", \"entities\": {\"url\": {\"urls\": [{\"url\": \"https://t.co/REbq6iCN2G\", \"expanded_url\": \"http://bigmanbigheart.com\", \"display_url\": \"bigmanbigheart.com\", \"indices\": [0, 23]}]}, \"description\": {\"urls\": []}}, \"protected\": false, \"followers_count\": 6106, \"friends_count\": 1513, \"listed_count\": 37, \"created_at\": \"Wed May 07 21:35:23 +0000 2014\", \"favourites_count\": 7674, \"utc_offset\": null, \"time_zone\": null, \"geo_enabled\": true, \"verified\": true, \"statuses_count\": 4807, \"lang\": null, \"contributors_enabled\": false, \"is_translator\": false, \"is_translation_enabled\": false, \"profile_background_color\": \"C0DEED\", \"profile_background_image_url\": \"http://abs.twimg.com/images/themes/theme1/bg.png\", \"profile_background_image_url_https\": \"https://abs.twimg.com/images/themes/theme1/bg.png\", \"profile_background_tile\": false, \"profile_image_url\": \"http://pbs.twimg.com/profile_images/1393414329551175683/yAaFKPs6_normal.jpg\", \"profile_image_url_https\": \"https://pbs.twimg.com/profile_images/1393414329551175683/yAaFKPs6_normal.jpg\", \"profile_banner_url\": \"https://pbs.twimg.com/profile_banners/2534429279/1625196799\", \"profile_link_color\": \"1DA1F2\", \"profile_sidebar_border_color\": \"C0DEED\", \"profile_sidebar_fill_color\": \"DDEEF6\", \"profile_text_color\": \"333333\", \"profile_use_background_image\": true, \"has_extended_profile\": true, \"default_profile\": true, \"default_profile_image\": false, \"following\": false, \"follow_request_sent\": false, \"notifications\": false, \"translator_type\": \"none\", \"withheld_in_countries\": []}, \"geo\": null, \"coordinates\": null, \"place\": {\"id\": \"ecbe2aea853af44e\", \"url\": \"https://api.twitter.com/1.1/geo/id/ecbe2aea853af44e.json\", \"place_type\": \"city\", \"name\": \"Tallahassee\", \"full_name\": \"Tallahassee, FL\", \"country_code\": \"US\", \"country\": \"United States\", \"contained_within\": [], \"bounding_box\": {\"type\": \"Polygon\", \"coordinates\": [[[-84.386548, 30.365093], [-84.1458, 30.365093], [-84.1458, 30.587338], [-84.386548, 30.587338]]]}, \"attributes\": {}}, \"contributors\": null, \"is_quote_status\": true, \"quoted_status_id\": 1575538547750162432, \"quoted_status_id_str\": \"1575538547750162432\", \"quoted_status\": {\"created_at\": \"Thu Sep 29 17:30:36 +0000 2022\", \"id\": 1575538547750162432, \"id_str\": \"1575538547750162432\", \"full_text\": \"We\\u2019re all we got, we\\u2019re all we need!\\n\\nWe don\\u2019t yet know the extent of the devastation from #HurricaneIan, but I know there will be countless needs. \\n\\nI\\u2019m teaming up with @jordantrav13 &amp; @Malakai_Menzer to set up a fund for hurricane relief/restoration:\\n\\nhttps://t.co/OpeNOZwpHH\", \"truncated\": false, \"display_text_range\": [0, 281], \"entities\": {\"hashtags\": [{\"text\": \"HurricaneIan\", \"indices\": [91, 104]}], \"symbols\": [], \"user_mentions\": [{\"screen_name\": \"jordantrav13\", \"name\": \"Jordan Travis\", \"id\": 1381969298172825601, \"id_str\": \"1381969298172825601\", \"indices\": [170, 183]}, {\"screen_name\": \"Malakai_Menzer\", \"name\": \"Malakai Jay Menzer\", \"id\": 927243280886255617, \"id_str\": \"927243280886255617\", \"indices\": [190, 205]}], \"urls\": [{\"url\": \"https://t.co/OpeNOZwpHH\", \"expanded_url\": \"https://gofund.me/2003a363\", \"display_url\": \"gofund.me/2003a363\", \"indices\": [258, 281]}]}, \"metadata\": {\"iso_language_code\": \"en\", \"result_type\": \"recent\"}, \"source\": \"<a href=\\\"http://twitter.com/download/iphone\\\" rel=\\\"nofollow\\\">Twitter for iPhone</a>\", \"in_reply_to_status_id\": null, \"in_reply_to_status_id_str\": null, \"in_reply_to_user_id\": null, \"in_reply_to_user_id_str\": null, \"in_reply_to_screen_name\": null, \"user\": {\"id\": 2534429279, \"id_str\": \"2534429279\", \"name\": \"Dillan R. Gibbons\", \"screen_name\": \"GibbonsDillan\", \"location\": \"USA\", \"description\": \"| St.Petersburg, FL | FSU Football | ND Football |       FSU MBA \\u201822 | ND Grad \\u201821 | CEO @BigManBigHeart_ | GoFundMe Athlete |\", \"url\": \"https://t.co/REbq6iCN2G\", \"entities\": {\"url\": {\"urls\": [{\"url\": \"https://t.co/REbq6iCN2G\", \"expanded_url\": \"http://bigmanbigheart.com\", \"display_url\": \"bigmanbigheart.com\", \"indices\": [0, 23]}]}, \"description\": {\"urls\": []}}, \"protected\": false, \"followers_count\": 6106, \"friends_count\": 1513, \"listed_count\": 37, \"created_at\": \"Wed May 07 21:35:23 +0000 2014\", \"favourites_count\": 7674, \"utc_offset\": null, \"time_zone\": null, \"geo_enabled\": true, \"verified\": true, \"statuses_count\": 4807, \"lang\": null, \"contributors_enabled\": false, \"is_translator\": false, \"is_translation_enabled\": false, \"profile_background_color\": \"C0DEED\", \"profile_background_image_url\": \"http://abs.twimg.com/images/themes/theme1/bg.png\", \"profile_background_image_url_https\": \"https://abs.twimg.com/images/themes/theme1/bg.png\", \"profile_background_tile\": false, \"profile_image_url\": \"http://pbs.twimg.com/profile_images/1393414329551175683/yAaFKPs6_normal.jpg\", \"profile_image_url_https\": \"https://pbs.twimg.com/profile_images/1393414329551175683/yAaFKPs6_normal.jpg\", \"profile_banner_url\": \"https://pbs.twimg.com/profile_banners/2534429279/1625196799\", \"profile_link_color\": \"1DA1F2\", \"profile_sidebar_border_color\": \"C0DEED\", \"profile_sidebar_fill_color\": \"DDEEF6\", \"profile_text_color\": \"333333\", \"profile_use_background_image\": true, \"has_extended_profile\": true, \"default_profile\": true, \"default_profile_image\": false, \"following\": false, \"follow_request_sent\": false, \"notifications\": false, \"translator_type\": \"none\", \"withheld_in_countries\": []}, \"geo\": null, \"coordinates\": null, \"place\": {\"id\": \"ecbe2aea853af44e\", \"url\": \"https://api.twitter.com/1.1/geo/id/ecbe2aea853af44e.json\", \"place_type\": \"city\", \"name\": \"Tallahassee\", \"full_name\": \"Tallahassee, FL\", \"country_code\": \"US\", \"country\": \"United States\", \"contained_within\": [], \"bounding_box\": {\"type\": \"Polygon\", \"coordinates\": [[[-84.386548, 30.365093], [-84.1458, 30.365093], [-84.1458, 30.587338], [-84.386548, 30.587338]]]}, \"attributes\": {}}, \"contributors\": null, \"is_quote_status\": false, \"retweet_count\": 209, \"favorite_count\": 723, \"favorited\": false, \"retweeted\": false, \"possibly_sensitive\": false, \"lang\": \"en\"}, \"retweet_count\": 2, \"favorite_count\": 1, \"favorited\": false, \"retweeted\": false, \"possibly_sensitive\": false, \"lang\": \"en\"}\n",
      "\n"
     ]
    }
   ],
   "source": [
    "#Load data into memory\n",
    "\n",
    "docs_path = 'C:/Users/mirei/Downloads/IRWA - Project-20221011/data/data/tw_hurricane_data.json' #path of tw_hurricane_data.json\n",
    "with open(docs_path) as fp:\n",
    "    lines = fp.readlines()\n",
    "    \n",
    "#Print lines[0] to see the structure of the data \n",
    "\n",
    "print(lines[12])"
   ]
  },
  {
   "cell_type": "code",
   "execution_count": 3,
   "metadata": {},
   "outputs": [
    {
     "data": {
      "text/plain": [
       "1575918028717707265"
      ]
     },
     "execution_count": 3,
     "metadata": {},
     "output_type": "execute_result"
    }
   ],
   "source": [
    "#Transform data into a dict to make easier the code\n",
    "\n",
    "datos_diccionario = [json.loads(line) for line in lines]\n",
    "\n",
    "#Now if we want to access to the screen_name of a user we colud do it like this\n",
    "\n",
    "datos_diccionario[12]['id']"
   ]
  },
  {
   "cell_type": "code",
   "execution_count": 4,
   "metadata": {},
   "outputs": [],
   "source": [
    "def build_terms(line):\n",
    "\n",
    "    stemmer = PorterStemmer()\n",
    "    stop_words = set(stopwords.words(\"english\"))\n",
    "\n",
    "    #Transform in lowercase\n",
    "    line=  line.lower()\n",
    "    \n",
    "    #Removing punctuation marks\n",
    "    line= line.translate(str.maketrans('', '', string.punctuation)) \n",
    "    \n",
    "    #Tokenize the text to get a list of terms\n",
    "    line=  line.split(\" \")\n",
    "    \n",
    "    #Removing the stopwords\n",
    "    line=[x for x in line if x not in stop_words]\n",
    "    \n",
    "    #Perform stemming\n",
    "    line=[stemmer.stem(x) for x in line]\n",
    "\n",
    "    return line"
   ]
  },
  {
   "cell_type": "code",
   "execution_count": 5,
   "metadata": {},
   "outputs": [],
   "source": [
    "def create_index(lines, num_documents):\n",
    "    \n",
    "    index = defaultdict(list)\n",
    "    title_index = defaultdict(float)\n",
    "    idf = defaultdict(float)\n",
    "    tf = defaultdict(list)  #term frequencies of terms in documents\n",
    "    df = defaultdict(int)  #document frequencies of terms in the corpus\n",
    "    \n",
    "    for line in lines:\n",
    "    \n",
    "        terms = build_terms(line['full_text'])\n",
    "        \n",
    "        page_id = line['id']\n",
    "        title = line['id_str']\n",
    "\n",
    "        \n",
    "        # The final output must return Tweet, Username, Date, Hashtags, Likes, Retweets and Url\n",
    "        args = [line[\"id_str\"], line['user']['screen_name'], line['created_at'], line['entities']['hashtags'], line['user']['favourites_count'], line['retweet_count'], line['entities']['urls']]\n",
    "        \n",
    "        title_index[title]=args\n",
    "        \n",
    "\n",
    "        positions_term_in_doc = {}\n",
    "        for position, term in enumerate(terms):\n",
    "            try:\n",
    "                # if the term is already in the dict append the position to the corresponding list\n",
    "                positions_term_in_doc[term].append(position) \n",
    "            except:\n",
    "                # Add the new term as dict key and initialize the array of positions and add the position\n",
    "                positions_term_in_doc[term] = [position]\n",
    "                \n",
    "        norm = 0\n",
    "        for term, posting in positions_term_in_doc.items():\n",
    "            norm += len(positions_term_in_doc[term]) ** 2\n",
    "        norm = math.sqrt(norm)\n",
    "        \n",
    "        for term, posting in positions_term_in_doc.items():\n",
    "            tf[term].append(np.round(len(positions_term_in_doc[term]) / norm, 4))\n",
    "            df[term] += 1\n",
    "        \n",
    "        for term in terms:\n",
    "            index[term].append(title)\n",
    "            \n",
    "        for term in df:\n",
    "            idf[term] = np.round(np.log(float(num_documents / df[term])), 4)\n",
    "            \n",
    "                    \n",
    "    return index, tf, df, idf, title_index"
   ]
  },
  {
   "cell_type": "code",
   "execution_count": 6,
   "metadata": {},
   "outputs": [],
   "source": [
    "index, tf, df, idf, title_index = create_index(datos_diccionario, len(lines))"
   ]
  },
  {
   "cell_type": "code",
   "execution_count": 47,
   "metadata": {},
   "outputs": [],
   "source": [
    "def rank_documents(terms, docs, index, idf, tf, title_index):\n",
    "    \n",
    "    doc_vectors = defaultdict(lambda: [0] * len(terms))\n",
    "    query_vector = [0] * len(terms)\n",
    "\n",
    "    # compute the norm for the query tf\n",
    "    query_terms_count = collections.Counter(terms) \n",
    "\n",
    "    query_norm = la.norm(list(query_terms_count.values()))\n",
    "\n",
    "    for termIndex, term in enumerate(terms):\n",
    "        if term not in index:\n",
    "            continue\n",
    "\n",
    "        query_vector[termIndex] = query_terms_count[term] / query_norm * idf[term]\n",
    "        # Generate doc_vectors for matching docs\n",
    "        for doc_index, doc in enumerate(index[term]): \n",
    "            if doc in docs and len(tf[term])>doc_index:\n",
    "                doc_vectors[doc][termIndex] = tf[term][doc_index] * idf[term] \n",
    "\n",
    "    # Calculate the score of each doc \n",
    "    \n",
    "    doc_scores = [[np.dot(curDocVec, query_vector), doc] for doc, curDocVec in doc_vectors.items()]\n",
    "    doc_scores.sort(reverse=True)\n",
    "    result_docs = [x[1] for x in doc_scores]\n",
    "    result_scores= [x[0] for x in doc_scores]\n",
    "    \n",
    "    if len(result_docs) == 0:\n",
    "        print(\"No results found, try again\")\n",
    "        #query = input()\n",
    "        #docs = search_tf_idf(query, index)\n",
    "    return result_scores,result_docs"
   ]
  },
  {
   "cell_type": "code",
   "execution_count": 48,
   "metadata": {},
   "outputs": [],
   "source": [
    "def search_tf_idf(query, index):\n",
    "   \n",
    "    query = build_terms(query)\n",
    "    docs = []\n",
    "    for term in query:\n",
    "        try:\n",
    "            #Term is in the index\n",
    "            keys = [i for i in index.keys()]\n",
    "            term_docs = [index[t] for t in keys if t==term]\n",
    "            docs=term_docs[0]\n",
    "            \n",
    "        except:\n",
    "            #Term is not in index\n",
    "            pass\n",
    "    docs = list(docs)\n",
    "    scores_docs,ranked_docs = rank_documents(query, docs, index, idf, tf, title_index)\n",
    "    return scores_docs,ranked_docs"
   ]
  },
  {
   "cell_type": "code",
   "execution_count": 49,
   "metadata": {},
   "outputs": [
    {
     "name": "stdout",
     "output_type": "stream",
     "text": [
      "\n",
      "======================\n",
      "Sample of 10 results out of 5 for the searched query:\n",
      "\n",
      "Tweet_id:  1575878436207443969  Username:  WorkingatDuke  Date:  Fri Sep 30 16:01:12 +0000 2022  Hashtags:  [{'text': 'HurricaneIan', 'indices': [27, 40]}]  Likes:  3918  Url:  0\n",
      "Tweet_id:  1575914809383583744  Username:  wluera  Date:  Fri Sep 30 18:25:44 +0000 2022  Hashtags:  [{'text': 'HurricaneIan', 'indices': [105, 118]}]  Likes:  7766  Url:  0\n",
      "Tweet_id:  1575859051233038341  Username:  LexRich5Schools  Date:  Fri Sep 30 14:44:10 +0000 2022  Hashtags:  [{'text': 'HurricaneIan', 'indices': [52, 65]}, {'text': 'D5Reads365', 'indices': [227, 238]}, {'text': 'OurD5Story', 'indices': [239, 250]}]  Likes:  10893  Url:  0\n",
      "Tweet_id:  1575900541221146625  Username:  twinmetalhen54  Date:  Fri Sep 30 17:29:02 +0000 2022  Hashtags:  [{'text': 'HurricaneIan', 'indices': [113, 126]}, {'text': 'GSM', 'indices': [128, 132]}, {'text': 'Science', 'indices': [134, 142]}, {'text': 'Truth', 'indices': [144, 150]}]  Likes:  19694  Url:  0\n",
      "Tweet_id:  1575889117942104065  Username:  GVWire  Date:  Fri Sep 30 16:43:38 +0000 2022  Hashtags:  [{'text': 'GVWire', 'indices': [70, 77]}, {'text': 'News', 'indices': [78, 83]}, {'text': 'Politics', 'indices': [84, 93]}, {'text': 'Weather', 'indices': [94, 102]}, {'text': 'Climate', 'indices': [103, 111]}, {'text': 'Environment', 'indices': [112, 124]}, {'text': 'Science', 'indices': [125, 133]}, {'text': 'Floods', 'indices': [134, 141]}, {'text': 'rain', 'indices': [142, 147]}, {'text': 'Hurricane', 'indices': [148, 158]}, {'text': 'HurricaneIan', 'indices': [159, 172]}, {'text': 'Carolina', 'indices': [173, 182]}, {'text': 'Florida', 'indices': [183, 191]}]  Likes:  898  Url:  0\n"
     ]
    }
   ],
   "source": [
    "#QUERIES\n",
    "\n",
    "query = \"Computer Science\"\n",
    "scores,docs = search_tf_idf(query, index)\n",
    "top = 10\n",
    "\n",
    "\n",
    "print(\"\\n======================\\nSample of {} results out of {} for the searched query:\\n\".format(top, len(docs)))\n",
    "for d_id in docs[:top]:\n",
    "    print('Tweet_id: ', title_index[d_id][0], ' Username: ', title_index[d_id][1], ' Date: ', title_index[d_id][2], ' Hashtags: ', title_index[d_id][3], ' Likes: ', title_index[d_id][4], ' Url: ', title_index[d_id][5])"
   ]
  },
  {
   "cell_type": "code",
   "execution_count": 50,
   "metadata": {},
   "outputs": [
    {
     "name": "stdout",
     "output_type": "stream",
     "text": [
      "\n",
      "======================\n",
      "Sample of 10 results out of 255 for the searched query:\n",
      "\n",
      "Tweet_id:  1575913904143626240  Username:  NicholeDWBZ  Date:  Fri Sep 30 18:22:08 +0000 2022  Hashtags:  [{'text': 'HurricaneIan', 'indices': [5, 18]}]  Likes:  6617  Url:  0\n",
      "Tweet_id:  1575916977717141504  Username:  willy_lowry  Date:  Fri Sep 30 18:34:21 +0000 2022  Hashtags:  [{'text': 'Hurricaneian', 'indices': [0, 13]}, {'text': 'Charleston', 'indices': [59, 70]}]  Likes:  5040  Url:  1\n",
      "Tweet_id:  1575914959091163136  Username:  sfdb  Date:  Fri Sep 30 18:26:19 +0000 2022  Hashtags:  [{'text': 'HurricaneIan', 'indices': [0, 13]}]  Likes:  18768  Url:  0\n",
      "Tweet_id:  1575909869726605313  Username:  foxweather  Date:  Fri Sep 30 18:06:06 +0000 2022  Hashtags:  [{'text': 'HurricaneIan', 'indices': [17, 30]}, {'text': 'SCwx', 'indices': [96, 101]}]  Likes:  400  Url:  9\n",
      "Tweet_id:  1575914423402766336  Username:  accuweather  Date:  Fri Sep 30 18:24:12 +0000 2022  Hashtags:  [{'text': 'HurricaneIan', 'indices': [10, 23]}]  Likes:  12941  Url:  7\n",
      "Tweet_id:  1575908335789826051  Username:  Storyful  Date:  Fri Sep 30 18:00:00 +0000 2022  Hashtags:  [{'text': 'HurricaneIan', 'indices': [0, 13]}]  Likes:  771  Url:  0\n",
      "Tweet_id:  1575914903806042112  Username:  WIONews  Date:  Fri Sep 30 18:26:06 +0000 2022  Hashtags:  [{'text': 'BREAKING', 'indices': [0, 9]}, {'text': 'HurricaneIan', 'indices': [12, 25]}]  Likes:  7271  Url:  1\n",
      "Tweet_id:  1575915969913839616  Username:  TheAstuteGaloot  Date:  Fri Sep 30 18:30:20 +0000 2022  Hashtags:  [{'text': 'HurricaneIan', 'indices': [15, 28]}]  Likes:  178656  Url:  0\n",
      "Tweet_id:  1575914929898782720  Username:  webgyrl2  Date:  Fri Sep 30 18:26:13 +0000 2022  Hashtags:  [{'text': 'HurricaneIan', 'indices': [15, 28]}]  Likes:  45666  Url:  0\n",
      "Tweet_id:  1575900541221146625  Username:  twinmetalhen54  Date:  Fri Sep 30 17:29:02 +0000 2022  Hashtags:  [{'text': 'HurricaneIan', 'indices': [113, 126]}, {'text': 'GSM', 'indices': [128, 132]}, {'text': 'Science', 'indices': [134, 142]}, {'text': 'Truth', 'indices': [144, 150]}]  Likes:  19694  Url:  0\n"
     ]
    }
   ],
   "source": [
    "query = \"Landfall in South Carolina\"\n",
    "scores, docs = search_tf_idf(query, index)\n",
    "top = 10\n",
    "\n",
    "\n",
    "print(\"\\n======================\\nSample of {} results out of {} for the searched query:\\n\".format(top, len(docs)))\n",
    "for d_id in docs[:top]:\n",
    "    print('Tweet_id: ', title_index[d_id][0], ' Username: ', title_index[d_id][1], ' Date: ', title_index[d_id][2], ' Hashtags: ', title_index[d_id][3], ' Likes: ', title_index[d_id][4], ' Url: ', title_index[d_id][5])"
   ]
  },
  {
   "cell_type": "code",
   "execution_count": 51,
   "metadata": {},
   "outputs": [
    {
     "name": "stdout",
     "output_type": "stream",
     "text": [
      "\n",
      "======================\n",
      "Sample of 10 results out of 4 for the searched query:\n",
      "\n",
      "Tweet_id:  1575871626540818432  Username:  AMDPU22  Date:  Fri Sep 30 15:34:08 +0000 2022  Hashtags:  [{'text': 'MentalHealth', 'indices': [0, 13]}, {'text': 'COVID', 'indices': [55, 61]}, {'text': 'HurricaneIan', 'indices': [66, 79]}, {'text': 'DePaulSMN', 'indices': [151, 161]}]  Likes:  27  Url:  0\n",
      "Tweet_id:  1575886977764728838  Username:  RamblingMyMind  Date:  Fri Sep 30 16:35:08 +0000 2022  Hashtags:  [{'text': 'COVID', 'indices': [92, 98]}, {'text': 'hurricaneian', 'indices': [131, 144]}, {'text': 'Hurricane', 'indices': [145, 155]}, {'text': 'JustBecauseYouCantSeeIt', 'indices': [156, 180]}]  Likes:  38047  Url:  1\n",
      "Tweet_id:  1575865182944894978  Username:  FraserFaithful  Date:  Fri Sep 30 15:08:32 +0000 2022  Hashtags:  [{'text': 'JunkScience', 'indices': [0, 12]}, {'text': 'GlobalWarming', 'indices': [38, 52]}, {'text': 'HurricaneIan', 'indices': [71, 84]}, {'text': 'Covid', 'indices': [132, 138]}, {'text': 'FakeNews', 'indices': [192, 201]}]  Likes:  1717  Url:  2\n",
      "Tweet_id:  1575860573795127296  Username:  holdsworth353  Date:  Fri Sep 30 14:50:13 +0000 2022  Hashtags:  [{'text': 'Florida', 'indices': [37, 45]}, {'text': 'Covid', 'indices': [75, 81]}, {'text': 'HurricaneIan', 'indices': [232, 245]}, {'text': 'Cleanup', 'indices': [246, 254]}, {'text': 'MyStory', 'indices': [255, 263]}]  Likes:  4535  Url:  1\n"
     ]
    }
   ],
   "source": [
    "query = \"covid\"\n",
    "scores,docs = search_tf_idf(query, index)\n",
    "top = 10\n",
    "\n",
    "\n",
    "print(\"\\n======================\\nSample of {} results out of {} for the searched query:\\n\".format(top, len(docs)))\n",
    "for d_id in docs[:top]:\n",
    "    print('Tweet_id: ', title_index[d_id][0], ' Username: ', title_index[d_id][1], ' Date: ', title_index[d_id][2], ' Hashtags: ', title_index[d_id][3], ' Likes: ', title_index[d_id][4], ' Url: ', title_index[d_id][5])"
   ]
  },
  {
   "cell_type": "code",
   "execution_count": 52,
   "metadata": {},
   "outputs": [
    {
     "name": "stdout",
     "output_type": "stream",
     "text": [
      "\n",
      "======================\n",
      "Sample of 10 results out of 3 for the searched query:\n",
      "\n",
      "Tweet_id:  1575887728964534273  Username:  pettigrewmed  Date:  Fri Sep 30 16:38:07 +0000 2022  Hashtags:  [{'text': 'hurricaneian', 'indices': [22, 35]}]  Likes:  31  Url:  0\n",
      "Tweet_id:  1575859537738838016  Username:  craigtimes  Date:  Fri Sep 30 14:46:06 +0000 2022  Hashtags:  [{'text': 'Florida', 'indices': [0, 8]}, {'text': 'HurricaneIan', 'indices': [112, 125]}]  Likes:  230080  Url:  11\n",
      "Tweet_id:  1575864352837701635  Username:  savcandy  Date:  Fri Sep 30 15:05:14 +0000 2022  Hashtags:  [{'text': 'savannahcandykitchen', 'indices': [238, 259]}, {'text': 'hurricaneian', 'indices': [260, 273]}]  Likes:  2288  Url:  1\n"
     ]
    }
   ],
   "source": [
    "query = \"instagram\"\n",
    "scores,docs = search_tf_idf(query, index)\n",
    "top = 10\n",
    "\n",
    "\n",
    "print(\"\\n======================\\nSample of {} results out of {} for the searched query:\\n\".format(top, len(docs)))\n",
    "for d_id in docs[:top]:\n",
    "    print('Tweet_id: ', title_index[d_id][0], ' Username: ', title_index[d_id][1], ' Date: ', title_index[d_id][2], ' Hashtags: ', title_index[d_id][3], ' Likes: ', title_index[d_id][4], ' Url: ', title_index[d_id][5])"
   ]
  },
  {
   "cell_type": "code",
   "execution_count": 53,
   "metadata": {},
   "outputs": [
    {
     "name": "stdout",
     "output_type": "stream",
     "text": [
      "\n",
      "======================\n",
      "Sample of 10 results out of 2 for the searched query:\n",
      "\n",
      "Tweet_id:  1575905732649689089  Username:  spinning_will  Date:  Fri Sep 30 17:49:40 +0000 2022  Hashtags:  [{'text': 'HurricaneIan', 'indices': [31, 44]}, {'text': 'FJB', 'indices': [61, 65]}]  Likes:  107663  Url:  0\n",
      "Tweet_id:  1575901730730283014  Username:  JTTmemes  Date:  Fri Sep 30 17:33:46 +0000 2022  Hashtags:  [{'text': 'TuaTagovailoa', 'indices': [182, 196]}, {'text': 'HurricaneIan', 'indices': [197, 210]}, {'text': 'coronavirus', 'indices': [211, 223]}, {'text': 'vaccine', 'indices': [224, 232]}]  Likes:  3664  Url:  0\n"
     ]
    }
   ],
   "source": [
    "query = \"vaccine\"\n",
    "scores,docs = search_tf_idf(query, index)\n",
    "top = 10\n",
    "\n",
    "\n",
    "print(\"\\n======================\\nSample of {} results out of {} for the searched query:\\n\".format(top, len(docs)))\n",
    "for d_id in docs[:top]:\n",
    "    print('Tweet_id: ', title_index[d_id][0], ' Username: ', title_index[d_id][1], ' Date: ', title_index[d_id][2], ' Hashtags: ', title_index[d_id][3], ' Likes: ', title_index[d_id][4], ' Url: ', title_index[d_id][5])"
   ]
  },
  {
   "cell_type": "markdown",
   "metadata": {},
   "source": [
    "# EVALUATION"
   ]
  },
  {
   "cell_type": "code",
   "execution_count": 61,
   "metadata": {},
   "outputs": [
    {
     "data": {
      "text/html": [
       "<div>\n",
       "<style scoped>\n",
       "    .dataframe tbody tr th:only-of-type {\n",
       "        vertical-align: middle;\n",
       "    }\n",
       "\n",
       "    .dataframe tbody tr th {\n",
       "        vertical-align: top;\n",
       "    }\n",
       "\n",
       "    .dataframe thead th {\n",
       "        text-align: right;\n",
       "    }\n",
       "</style>\n",
       "<table border=\"1\" class=\"dataframe\">\n",
       "  <thead>\n",
       "    <tr style=\"text-align: right;\">\n",
       "      <th></th>\n",
       "      <th>doc</th>\n",
       "      <th>query_id</th>\n",
       "      <th>label</th>\n",
       "    </tr>\n",
       "  </thead>\n",
       "  <tbody>\n",
       "    <tr>\n",
       "      <th>0</th>\n",
       "      <td>doc_12</td>\n",
       "      <td>1</td>\n",
       "      <td>1</td>\n",
       "    </tr>\n",
       "    <tr>\n",
       "      <th>1</th>\n",
       "      <td>doc_9</td>\n",
       "      <td>1</td>\n",
       "      <td>1</td>\n",
       "    </tr>\n",
       "    <tr>\n",
       "      <th>2</th>\n",
       "      <td>doc_18</td>\n",
       "      <td>1</td>\n",
       "      <td>1</td>\n",
       "    </tr>\n",
       "    <tr>\n",
       "      <th>3</th>\n",
       "      <td>doc_45</td>\n",
       "      <td>1</td>\n",
       "      <td>1</td>\n",
       "    </tr>\n",
       "    <tr>\n",
       "      <th>4</th>\n",
       "      <td>doc_501</td>\n",
       "      <td>1</td>\n",
       "      <td>1</td>\n",
       "    </tr>\n",
       "  </tbody>\n",
       "</table>\n",
       "</div>"
      ],
      "text/plain": [
       "       doc  query_id  label\n",
       "0   doc_12         1      1\n",
       "1    doc_9         1      1\n",
       "2   doc_18         1      1\n",
       "3   doc_45         1      1\n",
       "4  doc_501         1      1"
      ]
     },
     "execution_count": 61,
     "metadata": {},
     "output_type": "execute_result"
    }
   ],
   "source": [
    "search_results = pd.read_csv(\"C:/Users/mirei/Downloads/evaluation_gt.csv\")\n",
    "search_results.head()"
   ]
  },
  {
   "cell_type": "code",
   "execution_count": 62,
   "metadata": {},
   "outputs": [
    {
     "name": "stdout",
     "output_type": "stream",
     "text": [
      "The ground truth of our dataset is composed of 2 Relevance Levels: [0, 1]\n"
     ]
    }
   ],
   "source": [
    "print_result = search_results[\"label\"].unique()\n",
    "print(\"The ground truth of our dataset is composed of {} Relevance Levels: {}\".format(len(print_result), sorted(print_result)))"
   ]
  },
  {
   "cell_type": "code",
   "execution_count": 63,
   "metadata": {
    "scrolled": true
   },
   "outputs": [
    {
     "data": {
      "text/html": [
       "<div>\n",
       "<style scoped>\n",
       "    .dataframe tbody tr th:only-of-type {\n",
       "        vertical-align: middle;\n",
       "    }\n",
       "\n",
       "    .dataframe tbody tr th {\n",
       "        vertical-align: top;\n",
       "    }\n",
       "\n",
       "    .dataframe thead th {\n",
       "        text-align: right;\n",
       "    }\n",
       "</style>\n",
       "<table border=\"1\" class=\"dataframe\">\n",
       "  <thead>\n",
       "    <tr style=\"text-align: right;\">\n",
       "      <th></th>\n",
       "      <th>doc</th>\n",
       "      <th>query_id</th>\n",
       "      <th>label</th>\n",
       "      <th>is_relevant</th>\n",
       "    </tr>\n",
       "  </thead>\n",
       "  <tbody>\n",
       "    <tr>\n",
       "      <th>0</th>\n",
       "      <td>doc_12</td>\n",
       "      <td>1</td>\n",
       "      <td>1</td>\n",
       "      <td>1</td>\n",
       "    </tr>\n",
       "    <tr>\n",
       "      <th>1</th>\n",
       "      <td>doc_9</td>\n",
       "      <td>1</td>\n",
       "      <td>1</td>\n",
       "      <td>1</td>\n",
       "    </tr>\n",
       "    <tr>\n",
       "      <th>2</th>\n",
       "      <td>doc_18</td>\n",
       "      <td>1</td>\n",
       "      <td>1</td>\n",
       "      <td>1</td>\n",
       "    </tr>\n",
       "    <tr>\n",
       "      <th>3</th>\n",
       "      <td>doc_45</td>\n",
       "      <td>1</td>\n",
       "      <td>1</td>\n",
       "      <td>1</td>\n",
       "    </tr>\n",
       "    <tr>\n",
       "      <th>4</th>\n",
       "      <td>doc_501</td>\n",
       "      <td>1</td>\n",
       "      <td>1</td>\n",
       "      <td>1</td>\n",
       "    </tr>\n",
       "  </tbody>\n",
       "</table>\n",
       "</div>"
      ],
      "text/plain": [
       "       doc  query_id  label  is_relevant\n",
       "0   doc_12         1      1            1\n",
       "1    doc_9         1      1            1\n",
       "2   doc_18         1      1            1\n",
       "3   doc_45         1      1            1\n",
       "4  doc_501         1      1            1"
      ]
     },
     "execution_count": 63,
     "metadata": {},
     "output_type": "execute_result"
    }
   ],
   "source": [
    "search_results[\"is_relevant\"] = search_results[\"label\"].apply(lambda y: 1 if y == 1 else 0)\n",
    "search_results.head()"
   ]
  },
  {
   "cell_type": "code",
   "execution_count": 64,
   "metadata": {},
   "outputs": [],
   "source": [
    "#pasar de \"doc_12\" a 12\n",
    "search_results[\"doc\"]= [x.split('_')[1] for x in search_results[\"doc\"]]"
   ]
  },
  {
   "cell_type": "code",
   "execution_count": 65,
   "metadata": {},
   "outputs": [
    {
     "data": {
      "text/html": [
       "<div>\n",
       "<style scoped>\n",
       "    .dataframe tbody tr th:only-of-type {\n",
       "        vertical-align: middle;\n",
       "    }\n",
       "\n",
       "    .dataframe tbody tr th {\n",
       "        vertical-align: top;\n",
       "    }\n",
       "\n",
       "    .dataframe thead th {\n",
       "        text-align: right;\n",
       "    }\n",
       "</style>\n",
       "<table border=\"1\" class=\"dataframe\">\n",
       "  <thead>\n",
       "    <tr style=\"text-align: right;\">\n",
       "      <th></th>\n",
       "      <th>doc</th>\n",
       "      <th>query_id</th>\n",
       "      <th>label</th>\n",
       "      <th>is_relevant</th>\n",
       "      <th>tweet_id</th>\n",
       "    </tr>\n",
       "  </thead>\n",
       "  <tbody>\n",
       "    <tr>\n",
       "      <th>0</th>\n",
       "      <td>12</td>\n",
       "      <td>1</td>\n",
       "      <td>1</td>\n",
       "      <td>1</td>\n",
       "      <td>1575918028717707265</td>\n",
       "    </tr>\n",
       "    <tr>\n",
       "      <th>1</th>\n",
       "      <td>9</td>\n",
       "      <td>1</td>\n",
       "      <td>1</td>\n",
       "      <td>1</td>\n",
       "      <td>1575918057037303808</td>\n",
       "    </tr>\n",
       "    <tr>\n",
       "      <th>2</th>\n",
       "      <td>18</td>\n",
       "      <td>1</td>\n",
       "      <td>1</td>\n",
       "      <td>1</td>\n",
       "      <td>1575917982726860802</td>\n",
       "    </tr>\n",
       "    <tr>\n",
       "      <th>3</th>\n",
       "      <td>45</td>\n",
       "      <td>1</td>\n",
       "      <td>1</td>\n",
       "      <td>1</td>\n",
       "      <td>1575917411001200640</td>\n",
       "    </tr>\n",
       "    <tr>\n",
       "      <th>4</th>\n",
       "      <td>501</td>\n",
       "      <td>1</td>\n",
       "      <td>1</td>\n",
       "      <td>1</td>\n",
       "      <td>1575911956539912192</td>\n",
       "    </tr>\n",
       "  </tbody>\n",
       "</table>\n",
       "</div>"
      ],
      "text/plain": [
       "   doc  query_id  label  is_relevant             tweet_id\n",
       "0   12         1      1            1  1575918028717707265\n",
       "1    9         1      1            1  1575918057037303808\n",
       "2   18         1      1            1  1575917982726860802\n",
       "3   45         1      1            1  1575917411001200640\n",
       "4  501         1      1            1  1575911956539912192"
      ]
     },
     "execution_count": 65,
     "metadata": {},
     "output_type": "execute_result"
    }
   ],
   "source": [
    "#pasar de doc 12- doc[12]['id']=72364724580234650\n",
    "search_results[\"tweet_id\"]= [datos_diccionario[int(x)]['id'] for x in search_results[\"doc\"]]\n",
    "\n",
    "search_results.head()"
   ]
  },
  {
   "cell_type": "code",
   "execution_count": 66,
   "metadata": {},
   "outputs": [
    {
     "data": {
      "text/html": [
       "<div>\n",
       "<style scoped>\n",
       "    .dataframe tbody tr th:only-of-type {\n",
       "        vertical-align: middle;\n",
       "    }\n",
       "\n",
       "    .dataframe tbody tr th {\n",
       "        vertical-align: top;\n",
       "    }\n",
       "\n",
       "    .dataframe thead th {\n",
       "        text-align: right;\n",
       "    }\n",
       "</style>\n",
       "<table border=\"1\" class=\"dataframe\">\n",
       "  <thead>\n",
       "    <tr style=\"text-align: right;\">\n",
       "      <th></th>\n",
       "      <th>query_id</th>\n",
       "      <th>tweet_id</th>\n",
       "      <th>predicted_relevance</th>\n",
       "      <th>is_relevant</th>\n",
       "    </tr>\n",
       "  </thead>\n",
       "  <tbody>\n",
       "    <tr>\n",
       "      <th>0</th>\n",
       "      <td>1</td>\n",
       "      <td>1575913904143626240</td>\n",
       "      <td>5.108402</td>\n",
       "      <td>NaN</td>\n",
       "    </tr>\n",
       "    <tr>\n",
       "      <th>1</th>\n",
       "      <td>1</td>\n",
       "      <td>1575916977717141504</td>\n",
       "      <td>4.835070</td>\n",
       "      <td>NaN</td>\n",
       "    </tr>\n",
       "    <tr>\n",
       "      <th>2</th>\n",
       "      <td>1</td>\n",
       "      <td>1575914959091163136</td>\n",
       "      <td>4.749308</td>\n",
       "      <td>NaN</td>\n",
       "    </tr>\n",
       "    <tr>\n",
       "      <th>3</th>\n",
       "      <td>1</td>\n",
       "      <td>1575909869726605313</td>\n",
       "      <td>4.708001</td>\n",
       "      <td>NaN</td>\n",
       "    </tr>\n",
       "    <tr>\n",
       "      <th>4</th>\n",
       "      <td>1</td>\n",
       "      <td>1575914423402766336</td>\n",
       "      <td>4.476474</td>\n",
       "      <td>NaN</td>\n",
       "    </tr>\n",
       "  </tbody>\n",
       "</table>\n",
       "</div>"
      ],
      "text/plain": [
       "  query_id             tweet_id  predicted_relevance  is_relevant\n",
       "0        1  1575913904143626240             5.108402          NaN\n",
       "1        1  1575916977717141504             4.835070          NaN\n",
       "2        1  1575914959091163136             4.749308          NaN\n",
       "3        1  1575909869726605313             4.708001          NaN\n",
       "4        1  1575914423402766336             4.476474          NaN"
      ]
     },
     "execution_count": 66,
     "metadata": {},
     "output_type": "execute_result"
    }
   ],
   "source": [
    "queries=[\"Landfall in South Carolina\",\"Help and recovery during the hurricane disaster\",\"Floodings in South Carolina\"]\n",
    "\n",
    "\n",
    "work_data = pd.DataFrame(columns = [\"query_id\", \"tweet_id\", \"predicted_relevance\",\"is_relevant\"])\n",
    "\n",
    "for i in range(len(queries)):\n",
    "    rank_scores, ranked_tweets =search_tf_idf(queries[i],index)\n",
    "    for j in range(len(ranked_tweets)):\n",
    "        work_data = work_data.append({\"query_id\": i+1, \"tweet_id\": str(ranked_tweets[j]), \"predicted_relevance\": rank_scores[j]}, ignore_index=True)        \n",
    "work_data.head()"
   ]
  },
  {
   "cell_type": "code",
   "execution_count": 67,
   "metadata": {},
   "outputs": [
    {
     "name": "stdout",
     "output_type": "stream",
     "text": [
      "    query_id             tweet_id  predicted_relevance  is_relevant\n",
      "0          1  1575913904143626240             5.108402          1.0\n",
      "1          1  1575916977717141504             4.835070          0.0\n",
      "2          1  1575914959091163136             4.749308          1.0\n",
      "3          1  1575909869726605313             4.708001          1.0\n",
      "4          1  1575914423402766336             4.476474          0.0\n",
      "..       ...                  ...                  ...          ...\n",
      "617        3  1575860042577973248             0.722887          1.0\n",
      "618        3  1575868617798787075             0.703211          1.0\n",
      "619        3  1575902000318857216             0.693800          1.0\n",
      "620        3  1575892527923793921             0.676263          0.0\n",
      "621        3  1575866033440694272             0.645038          0.0\n",
      "\n",
      "[622 rows x 4 columns]\n"
     ]
    },
    {
     "name": "stderr",
     "output_type": "stream",
     "text": [
      "<ipython-input-67-dc9bc6cc38de>:3: SettingWithCopyWarning: \n",
      "A value is trying to be set on a copy of a slice from a DataFrame\n",
      "\n",
      "See the caveats in the documentation: https://pandas.pydata.org/pandas-docs/stable/user_guide/indexing.html#returning-a-view-versus-a-copy\n",
      "  work_data['is_relevant'][i]= random.randint(0,1)\n"
     ]
    }
   ],
   "source": [
    "#asignamos relevancia binaria a los documentos de forma aleatoria\n",
    "\n",
    "for i in range(len(work_data)): \n",
    "    work_data['is_relevant'][i]= random.randint(0,1)\n",
    "print(work_data)"
   ]
  },
  {
   "cell_type": "code",
   "execution_count": 68,
   "metadata": {},
   "outputs": [],
   "source": [
    "def precision_at_k(doc_score, y_score, k=10):\n",
    "    \n",
    "    order = np.argsort(y_score)[::-1]\n",
    "    doc_score = np.take(doc_score, order[:k])\n",
    "    relevant = sum(doc_score == 1) \n",
    "    return float(relevant) / k "
   ]
  },
  {
   "cell_type": "code",
   "execution_count": 22,
   "metadata": {},
   "outputs": [
    {
     "name": "stdout",
     "output_type": "stream",
     "text": [
      "==> Precision@5: 0.4\n",
      "\n",
      "\n",
      "Check on the dataset sorted by score:\n",
      "\n"
     ]
    },
    {
     "data": {
      "text/html": [
       "<div>\n",
       "<style scoped>\n",
       "    .dataframe tbody tr th:only-of-type {\n",
       "        vertical-align: middle;\n",
       "    }\n",
       "\n",
       "    .dataframe tbody tr th {\n",
       "        vertical-align: top;\n",
       "    }\n",
       "\n",
       "    .dataframe thead th {\n",
       "        text-align: right;\n",
       "    }\n",
       "</style>\n",
       "<table border=\"1\" class=\"dataframe\">\n",
       "  <thead>\n",
       "    <tr style=\"text-align: right;\">\n",
       "      <th></th>\n",
       "      <th>query_id</th>\n",
       "      <th>tweet_id</th>\n",
       "      <th>predicted_relevance</th>\n",
       "      <th>is_relevant</th>\n",
       "    </tr>\n",
       "  </thead>\n",
       "  <tbody>\n",
       "    <tr>\n",
       "      <th>0</th>\n",
       "      <td>1</td>\n",
       "      <td>1575913904143626240</td>\n",
       "      <td>5.108402</td>\n",
       "      <td>0.0</td>\n",
       "    </tr>\n",
       "    <tr>\n",
       "      <th>1</th>\n",
       "      <td>1</td>\n",
       "      <td>1575916977717141504</td>\n",
       "      <td>4.835070</td>\n",
       "      <td>0.0</td>\n",
       "    </tr>\n",
       "    <tr>\n",
       "      <th>2</th>\n",
       "      <td>1</td>\n",
       "      <td>1575914959091163136</td>\n",
       "      <td>4.749308</td>\n",
       "      <td>1.0</td>\n",
       "    </tr>\n",
       "    <tr>\n",
       "      <th>3</th>\n",
       "      <td>1</td>\n",
       "      <td>1575909869726605313</td>\n",
       "      <td>4.708001</td>\n",
       "      <td>0.0</td>\n",
       "    </tr>\n",
       "    <tr>\n",
       "      <th>4</th>\n",
       "      <td>1</td>\n",
       "      <td>1575914423402766336</td>\n",
       "      <td>4.476474</td>\n",
       "      <td>1.0</td>\n",
       "    </tr>\n",
       "  </tbody>\n",
       "</table>\n",
       "</div>"
      ],
      "text/plain": [
       "  query_id             tweet_id  predicted_relevance  is_relevant\n",
       "0        1  1575913904143626240             5.108402          0.0\n",
       "1        1  1575916977717141504             4.835070          0.0\n",
       "2        1  1575914959091163136             4.749308          1.0\n",
       "3        1  1575909869726605313             4.708001          0.0\n",
       "4        1  1575914423402766336             4.476474          1.0"
      ]
     },
     "execution_count": 22,
     "metadata": {},
     "output_type": "execute_result"
    }
   ],
   "source": [
    "# Check for query 1\n",
    "\n",
    "current_query = 1\n",
    "current_query_res = work_data[work_data[\"query_id\"] == current_query]\n",
    "\n",
    "k = 5\n",
    "print(\"==> Precision@{}: {}\\n\".format(k, precision_at_k(current_query_res[\"is_relevant\"], current_query_res[\"predicted_relevance\"], k)))\n",
    "print(\"\\nCheck on the dataset sorted by score:\\n\")\n",
    "#current_query_res.sort_values(\"score\", ascending=False).head(k)\n",
    "current_query_res.sort_values(\"predicted_relevance\", ascending=False).head(k)"
   ]
  },
  {
   "cell_type": "code",
   "execution_count": 23,
   "metadata": {},
   "outputs": [],
   "source": [
    "def recall(doc_score, y_score, k): \n",
    "  \n",
    "    order = np.argsort(y_score)[::-1]\n",
    "    doc_score = np.take(doc_score, order[:k])\n",
    "    \n",
    "    return float(relevant)/k "
   ]
  },
  {
   "cell_type": "code",
   "execution_count": 24,
   "metadata": {},
   "outputs": [
    {
     "name": "stdout",
     "output_type": "stream",
     "text": [
      "==> Recall298: 0.40939597315436244\n",
      "\n",
      "\n",
      "Check on the dataset sorted by score:\n",
      "\n"
     ]
    },
    {
     "data": {
      "text/html": [
       "<div>\n",
       "<style scoped>\n",
       "    .dataframe tbody tr th:only-of-type {\n",
       "        vertical-align: middle;\n",
       "    }\n",
       "\n",
       "    .dataframe tbody tr th {\n",
       "        vertical-align: top;\n",
       "    }\n",
       "\n",
       "    .dataframe thead th {\n",
       "        text-align: right;\n",
       "    }\n",
       "</style>\n",
       "<table border=\"1\" class=\"dataframe\">\n",
       "  <thead>\n",
       "    <tr style=\"text-align: right;\">\n",
       "      <th></th>\n",
       "      <th>query_id</th>\n",
       "      <th>tweet_id</th>\n",
       "      <th>predicted_relevance</th>\n",
       "      <th>is_relevant</th>\n",
       "    </tr>\n",
       "  </thead>\n",
       "  <tbody>\n",
       "    <tr>\n",
       "      <th>0</th>\n",
       "      <td>1</td>\n",
       "      <td>1575913904143626240</td>\n",
       "      <td>5.108402</td>\n",
       "      <td>0.0</td>\n",
       "    </tr>\n",
       "    <tr>\n",
       "      <th>1</th>\n",
       "      <td>1</td>\n",
       "      <td>1575916977717141504</td>\n",
       "      <td>4.835070</td>\n",
       "      <td>0.0</td>\n",
       "    </tr>\n",
       "    <tr>\n",
       "      <th>2</th>\n",
       "      <td>1</td>\n",
       "      <td>1575914959091163136</td>\n",
       "      <td>4.749308</td>\n",
       "      <td>1.0</td>\n",
       "    </tr>\n",
       "    <tr>\n",
       "      <th>3</th>\n",
       "      <td>1</td>\n",
       "      <td>1575909869726605313</td>\n",
       "      <td>4.708001</td>\n",
       "      <td>0.0</td>\n",
       "    </tr>\n",
       "    <tr>\n",
       "      <th>4</th>\n",
       "      <td>1</td>\n",
       "      <td>1575914423402766336</td>\n",
       "      <td>4.476474</td>\n",
       "      <td>1.0</td>\n",
       "    </tr>\n",
       "  </tbody>\n",
       "</table>\n",
       "</div>"
      ],
      "text/plain": [
       "  query_id             tweet_id  predicted_relevance  is_relevant\n",
       "0        1  1575913904143626240             5.108402          0.0\n",
       "1        1  1575916977717141504             4.835070          0.0\n",
       "2        1  1575914959091163136             4.749308          1.0\n",
       "3        1  1575909869726605313             4.708001          0.0\n",
       "4        1  1575914423402766336             4.476474          1.0"
      ]
     },
     "execution_count": 24,
     "metadata": {},
     "output_type": "execute_result"
    }
   ],
   "source": [
    "#Asumimos que el numero total de relevantes es el numero de relevantes que hay en work_data\n",
    "\n",
    "# Check for query 1\n",
    "current_query = 1\n",
    "current_query_res = work_data[work_data[\"query_id\"] == current_query]\n",
    "\n",
    "total_relevants= 0\n",
    "for is_relevant in work_data['is_relevant']:\n",
    "    if(is_relevant ==1):\n",
    "        total_relevants += 1\n",
    "\n",
    "k = total_relevants\n",
    "print(\"==> Recall{}: {}\\n\".format(k, recall(current_query_res[\"is_relevant\"], current_query_res[\"predicted_relevance\"], k)))\n",
    "print(\"\\nCheck on the dataset sorted by score:\\n\")\n",
    "#current_query_res.sort_values(\"score\", ascending=False).head(k)\n",
    "current_query_res.sort_values(\"predicted_relevance\", ascending=False).head()"
   ]
  },
  {
   "cell_type": "code",
   "execution_count": 46,
   "metadata": {},
   "outputs": [],
   "source": [
    "def f1_socre(recall, precision):\n",
    "    f1_score = 2*(precision*recall)/(precision+recall)\n",
    "    return f1_score"
   ]
  },
  {
   "cell_type": "code",
   "execution_count": 26,
   "metadata": {},
   "outputs": [],
   "source": [
    "def avg_precision_at_k(doc_score, y_score, k=10): \n",
    "    \n",
    "    gtp = np.sum(doc_score == 1) # Total number of gt positives\n",
    "    order = np.argsort(y_score)[::-1] \n",
    "    doc_score = np.take(doc_score, order[:k])\n",
    "    \n",
    "    \n",
    "    # If all documents are not relevant\n",
    "    if gtp == 0:\n",
    "        return 0\n",
    "    n_relevant_at_i = 0\n",
    "    prec_at_i = 0\n",
    "    \n",
    "    for i in range(len(doc_score)):\n",
    "        if doc_score[i] == 1: # Only add the P@k when the doc is relevant\n",
    "            n_relevant_at_i += 1\n",
    "            prec_at_i += n_relevant_at_i / (i + 1) # Calculate P@K\n",
    "    \n",
    "    return prec_at_i / gtp "
   ]
  },
  {
   "cell_type": "code",
   "execution_count": 27,
   "metadata": {},
   "outputs": [
    {
     "data": {
      "text/plain": [
       "0.013387978142076502"
      ]
     },
     "execution_count": 27,
     "metadata": {},
     "output_type": "execute_result"
    }
   ],
   "source": [
    "avg_precision_at_k(np.array(current_query_res[\"is_relevant\"]), np.array(current_query_res[\"predicted_relevance\"]), 10)"
   ]
  },
  {
   "cell_type": "code",
   "execution_count": 28,
   "metadata": {},
   "outputs": [],
   "source": [
    "def map_at_k(search_res, k=10):\n",
    "    avp = []\n",
    "\n",
    "    for q in search_res[\"query_id\"].unique():\n",
    "        \n",
    "        # Select data for current query \n",
    "        curr_data = search_res[search_res[\"query_id\"] == q]\n",
    "        \n",
    "        # Append average precision for current query\n",
    "        avp.append(avg_precision_at_k(np.array(curr_data[\"is_relevant\"]), np.array(curr_data[\"predicted_relevance\"]), k)) \n",
    "    \n",
    "    # Return mean average precision\n",
    "    return np.sum(avp) / len(avp), avp"
   ]
  },
  {
   "cell_type": "code",
   "execution_count": 29,
   "metadata": {},
   "outputs": [
    {
     "data": {
      "text/plain": [
       "0.02849483215628984"
      ]
     },
     "execution_count": 29,
     "metadata": {},
     "output_type": "execute_result"
    }
   ],
   "source": [
    "map_k, avp = map_at_k(work_data, 10)\n",
    "map_k"
   ]
  },
  {
   "cell_type": "code",
   "execution_count": 30,
   "metadata": {},
   "outputs": [],
   "source": [
    "def rr_at_k(doc_score, y_score, k=10):\n",
    "\n",
    "    order = np.argsort(y_score)[::-1]\n",
    "    doc_score = np.take(doc_score, order[:k])\n",
    "    if np.sum(doc_score) == 0:\n",
    "        return 0\n",
    "    \n",
    "    return 1 / (np.argmax(doc_score == 1) + 1) "
   ]
  },
  {
   "cell_type": "code",
   "execution_count": 69,
   "metadata": {},
   "outputs": [
    {
     "data": {
      "text/plain": [
       "1.0"
      ]
     },
     "execution_count": 69,
     "metadata": {},
     "output_type": "execute_result"
    }
   ],
   "source": [
    "labels = np.array(work_data[work_data['query_id'] == 1][\"is_relevant\"])\n",
    "scores = np.array(work_data[work_data['query_id'] == 1][\"predicted_relevance\"])\n",
    "np.round(rr_at_k(labels, scores, 10), 4)"
   ]
  },
  {
   "cell_type": "code",
   "execution_count": 32,
   "metadata": {},
   "outputs": [],
   "source": [
    "mrr = {}\n",
    "for k in [3, 5, 10]:\n",
    "    RRs = []\n",
    "    \n",
    "    for q in search_results['query_id'].unique(): \n",
    "        \n",
    "        labels = np.array(work_data[work_data['query_id'] == q][\"is_relevant\"])\n",
    "        scores = np.array(work_data[work_data['query_id'] == q][\"predicted_relevance\"])\n",
    "        RRs.append(rr_at_k(labels, scores, k))\n",
    "        \n",
    "    mrr[k] = np.round(float(sum(RRs) / len(RRs)), 4)"
   ]
  },
  {
   "cell_type": "code",
   "execution_count": 33,
   "metadata": {},
   "outputs": [
    {
     "data": {
      "text/plain": [
       "{3: 0.7778, 5: 0.7778, 10: 0.7778}"
      ]
     },
     "execution_count": 33,
     "metadata": {},
     "output_type": "execute_result"
    }
   ],
   "source": [
    "mrr"
   ]
  },
  {
   "cell_type": "code",
   "execution_count": 34,
   "metadata": {},
   "outputs": [],
   "source": [
    "def dcg_at_k(doc_score, y_score, k=10):\n",
    "    \n",
    "    order = np.argsort(y_score)[::-1] \n",
    "    doc_score = np.take(doc_score, order[:k])\n",
    "    gain = 2 ** doc_score - 1 \n",
    "    discounts = np.log2(np.arange(len(doc_score)) + 2)\n",
    "    \n",
    "    return np.sum(gain / discounts) \n",
    "\n",
    "def ndcg_at_k(doc_score, y_score, k=10):\n",
    "    \n",
    "    dcg_max = dcg_at_k(doc_score, doc_score, k) #ideal dcg\n",
    "    \n",
    "    if not dcg_max:\n",
    "        return 0\n",
    "    \n",
    "    return np.round(dcg_at_k(doc_score, y_score, k) / dcg_max, 4)"
   ]
  },
  {
   "cell_type": "code",
   "execution_count": 35,
   "metadata": {},
   "outputs": [
    {
     "name": "stdout",
     "output_type": "stream",
     "text": [
      "ndcg@10 for query with query_id=1: 0.3372\n"
     ]
    }
   ],
   "source": [
    "query_id = 1\n",
    "k = 10\n",
    "labels = np.array(work_data[work_data['query_id'] == query_id][\"is_relevant\"])\n",
    "scores = np.array(work_data[work_data['query_id'] == query_id][\"predicted_relevance\"])\n",
    "ndcg_k = np.round(ndcg_at_k(labels, scores, k), 4)\n",
    "print(\"ndcg@{} for query with query_id={}: {}\".format(k, query_id, ndcg_k))"
   ]
  },
  {
   "cell_type": "code",
   "execution_count": 36,
   "metadata": {},
   "outputs": [
    {
     "name": "stdout",
     "output_type": "stream",
     "text": [
      "Average ndcg@10: 0.4382\n"
     ]
    }
   ],
   "source": [
    "ndcgs = []\n",
    "k = 10\n",
    "for q in work_data['query_id'].unique():\n",
    "    labels = np.array(work_data[work_data['query_id'] == q][\"is_relevant\"])\n",
    "    scores = np.array(work_data[work_data['query_id'] == q][\"predicted_relevance\"]) \n",
    "    ndcgs.append(np.round(ndcg_at_k(labels, scores, k), 4))\n",
    "\n",
    "avg_ndcg = np.round(float(sum(ndcgs) / len(ndcgs)), 4)\n",
    "print(\"Average ndcg@{}: {}\".format(k, avg_ndcg))\n"
   ]
  },
  {
   "cell_type": "code",
   "execution_count": 37,
   "metadata": {},
   "outputs": [],
   "source": [
    "from gensim.models.word2vec import Word2Vec\n",
    "from sklearn.manifold import TSNE\n",
    "import matplotlib.pyplot as plt"
   ]
  },
  {
   "cell_type": "code",
   "execution_count": 45,
   "metadata": {},
   "outputs": [
    {
     "data": {
      "image/png": "[encoded data removed]",
      "text/plain": [
       "<Figure size 432x288 with 1 Axes>"
      ]
     },
     "metadata": {
      "needs_background": "light"
     },
     "output_type": "display_data"
    }
   ],
   "source": [
    "tweets = []\n",
    "for tweet in datos_diccionario: \n",
    "    tweets.append(build_terms(tweet['full_text']))\n",
    "\n",
    "model = Word2Vec(tweets, workers=4, min_count=50, window=10, sample=1e-3)\n",
    "\n",
    "X = model.wv[model.wv.key_to_index]\n",
    "\n",
    "tsne = TSNE(n_components=2)\n",
    "X_tsne = tsne.fit_transform(X)\n",
    "\n",
    "plt.scatter(X_tsne[:, 0], X_tsne[:, 1])\n",
    "plt.show()"
   ]
  }
 ],
 "metadata": {
  "kernelspec": {
   "display_name": "Python 3",
   "language": "python",
   "name": "python3"
  },
  "language_info": {
   "codemirror_mode": {
    "name": "ipython",
    "version": 3
   },
   "file_extension": ".py",
   "mimetype": "text/x-python",
   "name": "python",
   "nbconvert_exporter": "python",
   "pygments_lexer": "ipython3",
   "version": "3.8.3"
  }
 },
 "nbformat": 4,
 "nbformat_minor": 4
}
